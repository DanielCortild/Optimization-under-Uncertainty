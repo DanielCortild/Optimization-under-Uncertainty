{
 "cells": [
  {
   "cell_type": "markdown",
   "metadata": {},
   "source": [
    "For the sake of safety in case of one of us making a dumb mistake we elected to make two seperate codebasees to solve this, the other is the primary one and this is the alternative, altough there are still situations in wich the graphs from this code are used"
   ]
  },
  {
   "cell_type": "markdown",
   "metadata": {},
   "source": [
    "This is for the primary problem,"
   ]
  },
  {
   "cell_type": "markdown",
   "metadata": {},
   "source": [
    "We start with the expected value scenario"
   ]
  },
  {
   "cell_type": "markdown",
   "metadata": {},
   "source": [
    "This specifies the problem"
   ]
  },
  {
   "cell_type": "code",
   "execution_count": 1,
   "metadata": {},
   "outputs": [
    {
     "name": "stdout",
     "output_type": "stream",
     "text": [
      "['CLARABEL', 'ECOS', 'ECOS_BB', 'GUROBI', 'OSQP', 'SCIPY', 'SCS']\n"
     ]
    }
   ],
   "source": [
    "from scipy.optimize import linprog\n",
    "import numpy as np\n",
    "import pandas as pd\n",
    "import cvxpy as cp\n",
    "import time\n",
    "import gurobipy\n",
    "\n",
    "print(cp.installed_solvers())\n",
    "c = [10.,7.,16.,6.]  #costs for instalation\n",
    "c=c \n",
    "#costs\n",
    "c= c+[v*i for v in [10,6,1]   for i in [4,4.5,3.2,5.5]]\n",
    "\n",
    "#phase 1 constraints\n",
    "#energy requirement constraign\n",
    "Aub = [[-1]*4+[0]*(len(c)-4)]\n",
    "bub=[-7-4-3]\n",
    "#budget\n",
    "Aub=Aub+[c[0:4]+[0]*(len(c)-4)]\n",
    "bub.append(120)\n",
    "\n",
    "#phase 2 constraints\n",
    "#capacity\n",
    "Aub = Aub +[[0]*i+[-1]+[0]*(3-i)+(([0]*i+[1]+[0]*(3-i))*3) for i in range(4)]\n",
    "bub = bub+ [0]*4\n",
    "\n",
    "#power requirement\n",
    "Aub = Aub + [[0]*(4+4*i)+[-1]*4+[0]*(len(c)-8-4*i) for i in range(3)]\n",
    "bub = bub + [-5,-3,-2]\n"
   ]
  },
  {
   "cell_type": "markdown",
   "metadata": {},
   "source": [
    "Here we solve the problem and display the results"
   ]
  },
  {
   "cell_type": "code",
   "execution_count": 3,
   "metadata": {},
   "outputs": [
    {
     "name": "stdout",
     "output_type": "stream",
     "text": [
      "394.66666666666663\n",
      "purchase\n",
      "[2.83333333 3.         2.16666667 6.        ]\n",
      "consumption per phase\n",
      "[2.83333333 0.         2.16666667 0.        ]\n",
      "[0. 3. 0. 0.]\n",
      "[0. 0. 0. 2.]\n",
      "394.66666666666663\n",
      "120.00000000000001\n"
     ]
    }
   ],
   "source": [
    "res1=linprog(c=c, A_ub = Aub, b_ub = bub)\n",
    "print(res1.fun)\n",
    "\n",
    "print(\"purchase\")\n",
    "print(res1.x[0:4])\n",
    "avres = list(res1.x[0:4]) \n",
    "print(\"consumption per phase\")\n",
    "for i in range(3):\n",
    "    print(res1.x[[4+i*4+z for z in range(4)]])\n",
    "\n",
    "print(res1.fun)\n",
    "#testing to be sure that cost calculation is correct\n",
    "print(sum([c[i]*res1.x[i] for i in range(4)]) )\n",
    "#calculating first phase cost\n",
    "precost=sum([c[i]*res1.x[i] for i in range(4)])"
   ]
  },
  {
   "cell_type": "markdown",
   "metadata": {},
   "source": [
    "Here we show that scipy problems and numpy linear programs can function the same"
   ]
  },
  {
   "cell_type": "code",
   "execution_count": 82,
   "metadata": {},
   "outputs": [
    {
     "name": "stdout",
     "output_type": "stream",
     "text": [
      "Set parameter WLSAccessID\n",
      "Set parameter WLSSecret\n",
      "Set parameter LicenseID to value 2558038\n",
      "Academic license 2558038 - for non-commercial use only - registered to r.___@student.rug.nl\n",
      "[2.83333333 3.         2.16666667 6.         2.83333333 0.\n",
      " 2.16666667 0.         0.         3.         0.         0.\n",
      " 0.         0.         0.         2.        ]\n",
      "394.6666666666667\n",
      "[Variable((16,), var18627007)]\n"
     ]
    }
   ],
   "source": [
    "x=cp.Variable(len(c))\n",
    "Aub = np.array(Aub)\n",
    "c= np.array(c)\n",
    "bub = np.array(bub)\n",
    "restricts=[Aub @ x <= bub]+ [x >= 0]\n",
    "problem = cp.Problem(cp.Minimize(c.T @x),restricts )\n",
    "\n",
    "res= problem.solve(solver = cp.GUROBI)\n",
    "print(x.value)\n",
    "print(problem.value)  \n",
    "print( problem.variables())"
   ]
  },
  {
   "cell_type": "markdown",
   "metadata": {},
   "source": [
    "Here we specify the large determenistic equivalent of this problem"
   ]
  },
  {
   "cell_type": "code",
   "execution_count": 83,
   "metadata": {},
   "outputs": [
    {
     "name": "stdout",
     "output_type": "stream",
     "text": [
      "[0, 0, 0, -1, 0, 0, 0, 0, 0, 0, 0, 0, 0, 0, 0, 0, 0, 0, 0, 0, 0, 0, 0, 0, 0, 0, 0, 0, 0, 0, 0, 0, 0, 0, 0, 0, 0, 0, 0, 0, 0, 0, 0, 0, 0, 0, 0, 0, 0, 0, 0, 0, 0, 0, 0, 0, 0, 0, 0, 0, 0, 0, 0, 0, 0, 0, 0, 0, 0, 0, 0, 0, 0, 0, 0, 0, 0, 0, 0, 0, 0, 0, 0, 0, 0, 0, 0, 0, 0, 0, 0, 0, 0, 0, 0, 0, 0, 0, 0, 0, 0, 0, 0, 0, 0, 0, 0, 0, 0, 0, 0, 0, 0, 0, 0, 0, 0, 0, 0, 0, 0, 0, 0, 0, 0, 0, 0, 0, 0, 0, 0, 0, 0, 0, 0, 0, 0, 0, 0, 0, 0, 0, 0, 0, 0, 0, 0, 0, 0, 0, 0, 0, 0, 0, 0, 0, 0, 0, 0, 0, 0, 0, 0, 0, 0, 0, 0, 0, 0, 0, 0, 0, 0, 0, 0, 0, 0, 0, 0, 0, 0, 0, 0, 0, 0, 0, 0, 0, 0, 0, 0, 0, 0, 0, 0, 0, 0, 0, 0, 0, 0, 0, 0, 0, 0, 0, 0, 0, 0, 0, 0, 0, 0, 0, 0, 0, 0, 0, 0, 0, 0, 0, 0, 0, 0, 0, 0, 0, 0, 0, 0, 0, 0, 0, 0, 0, 0, 0, 0, 0, 0, 0, 0, 0, 0, 0, 0, 0, 0, 0, 0, 0, 0, 0, 0, 0, 0, 0, 0, 0, 0, 0, 0, 0, 0, 0, 0, 0, 0, 0, 0, 0, 0, 0, 0, 0, 0, 0, 0, 0, 0, 0, 0, 0, 0, 0, 0, 0, 0, 0, 0, 0, 0, 0, 0, 0, 0, 0, 0, 0, 0, 0, 0, 0, 0, 0, 0, 0, 0, 0, 0, 0, 0, 0, 0, 0, 0, 0, 0, 1, 0, 0, 0, 1, 0, 0, 0, 1]\n",
      "328\n",
      "[0, 0, 0, 0, 0, 0, 0, 0, 0, 0, 0, 0, 0, 0, 0, 0, 0, 0, 0, 0, 0, 0, 0, 0, 0, 0, 0, 0, 0, 0, 0, 0, 0, 0, 0, 0, 0, 0, 0, 0, 0, 0, 0, 0, 0, 0, 0, 0, 0, 0, 0, 0, 0, 0, 0, 0, 0, 0, 0, 0, 0, 0, 0, 0, 0, 0, 0, 0, 0, 0, 0, 0, 0, 0, 0, 0, 0, 0, 0, 0, 0, 0, 0, 0, 0, 0, 0, 0, 0, 0, 0, 0, 0, 0, 0, 0, 0, 0, 0, 0, 0, 0, 0, 0, 0, 0, 0, 0, 0, 0, 0, 0, 0, 0, 0, 0, 0, 0, 0, 0, 0, 0, 0, 0, 0, 0, 0, 0, 0, 0, 0, 0, 0, 0, 0, 0, 0, 0, 0, 0, 0, 0, 0, 0, 0, 0, 0, 0, 0, 0, 0, 0, 0, 0, 0, 0, 0, 0, 0, 0, 0, 0, 0, 0, 0, 0, 0, 0, 0, 0, 0, 0, 0, 0, 0, 0, 0, 0, 0, 0, 0, 0, 0, 0, 0, 0, 0, 0, 0, 0, 0, 0, 0, 0, 0, 0, 0, 0, 0, 0, 0, 0, 0, 0, 0, 0, 0, 0, 0, 0, 0, 0, 0, 0, 0, 0, 0, 0, 0, 0, 0, 0, 0, 0, 0, 0, 0, 0, 0, 0, 0, 0, 0, 0, 0, 0, 0, 0, 0, 0, 0, 0, 0, 0, 0, 0, 0, 0, 0, 0, 0, 0, 0, 0, 0, 0, 0, 0, 0, 0, 0, 0, 0, 0, 0, 0, 0, 0, 0, 0, 0, 0, 0, 0, 0, 0, 0, 0, 0, 0, 0, 0, 0, 0, 0, 0, 0, 0, 0, 0, 0, 0, 0, 0, 0, 0, 0, 0, 0, 0, 0, 0, 0, 0, 0, 0, 0, 0, 0, 0, 0, 0, 0, 0, 0, 0, 0, 0, 0, 0, 0, 0, 0, 0, -1, -1, -1, -1]\n"
     ]
    }
   ],
   "source": [
    "c = [10.,7.,16.,6.]  #costs for instalation\n",
    "#costs\n",
    "demands = [[z,j,i] for i in [-1,-2,-3] for j in [-2,-3,-4] for z in  [-3,-5,-7] ]\n",
    "probs = [z*j*i for i in [0.3,0.4,0.3] for j in [0.3,0.4,0.3] for z in [0.3,0.4,0.3]]\n",
    "\n",
    "c= c+[v*i*p for p in probs for v in [10,6,1]   for i in [4,4.5,3.2,5.5] ]#add cost of usage\n",
    "\n",
    "#phase 1 constraints\n",
    "#energy requirement constraign\n",
    "Aub = [[-1]*4+[0]*(len(c)-4)]\n",
    "bub=[-7-4-3]\n",
    "#budget\n",
    "Aub=Aub+[c[0:4]+[0]*(len(c)-4)]\n",
    "bub.append(120)\n",
    "\n",
    "#phase 2 constraints\n",
    "#capacity\n",
    "Aub = Aub +[[0]*(i )+[-1]+[0]*(3-i+12*k)+(([0]*i+[1]+[0]*(3-i))*3)+[0]*(len(c)-16-12*k ) for k in range(len(probs)) for i in range(4) ]\n",
    "print(Aub[-1])\n",
    "print(len(c))\n",
    "bub = bub+ [0]*4*len(probs)\n",
    "\n",
    "#power requirement\n",
    "Aub = Aub + [[0]*(4+4*i+12*k)+[-1]*4+[0]*(len(c)-8-4*i-12*k) for k in range(len(probs)) for i in range(3)]\n",
    "print(Aub[-1])\n",
    "\n",
    "bub = bub +[i  for t in range(len(demands)) for i in demands[t] ] "
   ]
  },
  {
   "cell_type": "markdown",
   "metadata": {},
   "source": [
    "We here solve said problem"
   ]
  },
  {
   "cell_type": "code",
   "execution_count": 84,
   "metadata": {},
   "outputs": [
    {
     "name": "stdout",
     "output_type": "stream",
     "text": [
      "397.7513333333337\n",
      "[3.16666667 5.         1.83333333 4.        ]\n",
      "120.0\n"
     ]
    }
   ],
   "source": [
    "res2=linprog(c=c, A_ub = Aub, b_ub = bub)\n",
    "\n",
    "print(res2.fun)\n",
    "#first phase choice parameters\n",
    "print(res2.x[0:4])\n",
    "#the first phase cost\n",
    "print(sum([c[i]*res2.x[i] for i in range(4)]) )"
   ]
  },
  {
   "cell_type": "markdown",
   "metadata": {},
   "source": [
    "Here we solve the perfect information/wait and see version of the problem by reformatting the problem for every possible realisation of the demands"
   ]
  },
  {
   "cell_type": "code",
   "execution_count": 85,
   "metadata": {},
   "outputs": [],
   "source": [
    "demands = [[z,j,i] for i in [-1,-2,-3] for j in [-2,-3,-4] for z in  [-3,-5,-7] ]\n",
    "probs = [z*j*i for i in [0.3,0.4,0.3] for j in [0.3,0.4,0.3] for z in [0.3,0.4,0.3]]\n",
    "c = [10.,7.,16.,6.]  #costs for instalation\n",
    "#costs\n",
    "c= c+[v*i for v in [10,6,1]   for i in [4,4.5,3.2,5.5]]\n",
    "\n",
    "#phase 1 constraints\n",
    "#energy requirement constraign\n",
    "Aub = [[-1]*4+[0]*(len(c)-4)]\n",
    "bub=[-7-4-3]\n",
    "#budget\n",
    "Aub=Aub+[c[0:4]+[0]*(len(c)-4)]\n",
    "bub.append(120)\n",
    "\n",
    "#phase 2 constraints\n",
    "#capacity\n",
    "Aub = Aub +[[0]*i+[-1]+[0]*(3-i)+(([0]*i+[1]+[0]*(3-i))*3) for i in range(4)]\n",
    "bub = bub+ [0]*4\n",
    "\n",
    "#power requirement\n",
    "Aub = Aub + [[0]*(4+4*i)+[-1]*4+[0]*(len(c)-8-4*i) for i in range(3)]\n",
    "\n"
   ]
  },
  {
   "cell_type": "code",
   "execution_count": 86,
   "metadata": {},
   "outputs": [
    {
     "name": "stdout",
     "output_type": "stream",
     "text": [
      "[-7, -2, -1]\n",
      "394.96666666666664\n"
     ]
    }
   ],
   "source": [
    "costs = []\n",
    "print(demands[2])\n",
    "for a in range(len(demands)):\n",
    "    costs = costs+[linprog(c=c, A_ub = Aub, b_ub = bub+(demands[a])).fun*probs[a]]\n",
    "print(sum(costs))    "
   ]
  },
  {
   "cell_type": "markdown",
   "metadata": {},
   "source": [
    "we here calculate the EEV by substituting our first phase parameters for the EV first phase parameters collected above"
   ]
  },
  {
   "cell_type": "code",
   "execution_count": 87,
   "metadata": {},
   "outputs": [
    {
     "name": "stdout",
     "output_type": "stream",
     "text": [
      "[0, 0, 0, 0, 0, 0, 0, 0, 0, 0, 0, 0, 0, 0, 0, 0, 0, 0, 0, 0, 0, 0, 0, 0, 0, 0, 0, 0, 0, 0, 0, 0, 0, 0, 0, 0, 0, 0, 0, 0, 0, 0, 0, 0, 0, 0, 0, 0, 0, 0, 0, 0, 0, 0, 0, 0, 0, 0, 0, 0, 0, 0, 0, 0, 0, 0, 0, 0, 0, 0, 0, 0, 0, 0, 0, 0, 0, 0, 0, 0, 0, 0, 0, 0, 0, 0, 0, 0, 0, 0, 0, 0, 0, 0, 0, 0, 0, 0, 0, 0, 0, 0, 0, 0, 0, 0, 0, 0, 0, 0, 0, 0, 0, 0, 0, 0, 0, 0, 0, 0, 0, 0, 0, 0, 0, 0, 0, 0, 0, 0, 0, 0, 0, 0, 0, 0, 0, 0, 0, 0, 0, 0, 0, 0, 0, 0, 0, 0, 0, 0, 0, 0, 0, 0, 0, 0, 0, 0, 0, 0, 0, 0, 0, 0, 0, 0, 0, 0, 0, 0, 0, 0, 0, 0, 0, 0, 0, 0, 0, 0, 0, 0, 0, 0, 0, 0, 0, 0, 0, 0, 0, 0, 0, 0, 0, 0, 0, 0, 0, 0, 0, 0, 0, 0, 0, 0, 0, 0, 0, 0, 0, 0, 0, 0, 0, 0, 0, 0, 0, 0, 0, 0, 0, 0, 0, 0, 0, 0, 0, 0, 0, 0, 0, 0, 0, 0, 0, 0, 0, 0, 0, 0, 0, 0, 0, 0, 0, 0, 0, 0, 0, 0, 0, 0, 0, 0, 0, 0, 0, 0, 0, 0, 0, 0, 0, 0, 0, 0, 0, 0, 0, 0, 0, 0, 0, 0, 0, 0, 0, 0, 0, 0, 0, 0, 0, 0, 0, 0, 0, 0, 0, 0, 0, 0, 0, 0, 0, 0, 0, 0, 0, 0, 0, 0, 0, 0, 0, 0, 0, 0, 0, 0, 0, 0, 0, 1, 0, 0, 0, 1, 0, 0, 0, 1]\n",
      "324\n",
      "[0, 0, 0, 0, 0, 0, 0, 0, 0, 0, 0, 0, 0, 0, 0, 0, 0, 0, 0, 0, 0, 0, 0, 0, 0, 0, 0, 0, 0, 0, 0, 0, 0, 0, 0, 0, 0, 0, 0, 0, 0, 0, 0, 0, 0, 0, 0, 0, 0, 0, 0, 0, 0, 0, 0, 0, 0, 0, 0, 0, 0, 0, 0, 0, 0, 0, 0, 0, 0, 0, 0, 0, 0, 0, 0, 0, 0, 0, 0, 0, 0, 0, 0, 0, 0, 0, 0, 0, 0, 0, 0, 0, 0, 0, 0, 0, 0, 0, 0, 0, 0, 0, 0, 0, 0, 0, 0, 0, 0, 0, 0, 0, 0, 0, 0, 0, 0, 0, 0, 0, 0, 0, 0, 0, 0, 0, 0, 0, 0, 0, 0, 0, 0, 0, 0, 0, 0, 0, 0, 0, 0, 0, 0, 0, 0, 0, 0, 0, 0, 0, 0, 0, 0, 0, 0, 0, 0, 0, 0, 0, 0, 0, 0, 0, 0, 0, 0, 0, 0, 0, 0, 0, 0, 0, 0, 0, 0, 0, 0, 0, 0, 0, 0, 0, 0, 0, 0, 0, 0, 0, 0, 0, 0, 0, 0, 0, 0, 0, 0, 0, 0, 0, 0, 0, 0, 0, 0, 0, 0, 0, 0, 0, 0, 0, 0, 0, 0, 0, 0, 0, 0, 0, 0, 0, 0, 0, 0, 0, 0, 0, 0, 0, 0, 0, 0, 0, 0, 0, 0, 0, 0, 0, 0, 0, 0, 0, 0, 0, 0, 0, 0, 0, 0, 0, 0, 0, 0, 0, 0, 0, 0, 0, 0, 0, 0, 0, 0, 0, 0, 0, 0, 0, 0, 0, 0, 0, 0, 0, 0, 0, 0, 0, 0, 0, 0, 0, 0, 0, 0, 0, 0, 0, 0, 0, 0, 0, 0, 0, 0, 0, 0, 0, 0, 0, 0, 0, 0, 0, 0, 0, 0, 0, 0, 0, 0, 0, 0, 0, 0, 0, -1, -1, -1, -1]\n"
     ]
    }
   ],
   "source": [
    "#function to test the average sollution in practice\n",
    "#c = [10.,7.,16.,6.]  #costs for instalation\n",
    "#costs\n",
    "demands = [[z,j,i] for i in [-1,-2,-3] for j in [-2,-3,-4] for z in  [-3,-5,-7] ]\n",
    "probs = [z*j*i for i in [0.3,0.4,0.3] for j in [0.3,0.4,0.3] for z in [0.3,0.4,0.3]]\n",
    "\n",
    "c= [v*i*p for p in probs for v in [10,6,1]   for i in [4,4.5,3.2,5.5] ]#add cost of usage\n",
    "\n",
    "#phase 1 constraints\n",
    "#energy requirement constraign\n",
    "#Aub = [[-1]*4+[0]*(len(c)-4)]\n",
    "#bub=[-7-4-3]\n",
    "#budget\n",
    "#Aub=Aub+[c[0:4]+[0]*(len(c)-4)]\n",
    "#bub.append(120)\n",
    "\n",
    "#phase 2 constraints\n",
    "#capacity\n",
    "Aub =[[0]*(12*k)+(([0]*i+[1]+[0]*(3-i))*3)+[0]*(len(c)-12-12*k ) for k in range(len(probs)) for i in range(4) ]\n",
    "print(Aub[-1])\n",
    "print(len(c))\n",
    "bub =  avres*len(probs)\n",
    "\n",
    "#power requirement\n",
    "Aub = Aub + [[0]*(4*i+12*k)+[-1]*4+[0]*(len(c)-4-4*i-12*k) for k in range(len(probs)) for i in range(3)]\n",
    "print(Aub[-1])\n",
    "\n",
    "bub = bub +[i  for t in range(len(demands)) for i in demands[t] ] "
   ]
  },
  {
   "cell_type": "code",
   "execution_count": 88,
   "metadata": {},
   "outputs": [
    {
     "name": "stdout",
     "output_type": "stream",
     "text": [
      "399.59266666666684\n"
     ]
    }
   ],
   "source": [
    "res3=linprog(c=c, A_ub = Aub, b_ub = bub)\n",
    "\n",
    "print(res3.fun+precost)\n"
   ]
  }
 ],
 "metadata": {
  "kernelspec": {
   "display_name": "Python 3",
   "language": "python",
   "name": "python3"
  },
  "language_info": {
   "codemirror_mode": {
    "name": "ipython",
    "version": 3
   },
   "file_extension": ".py",
   "mimetype": "text/x-python",
   "name": "python",
   "nbconvert_exporter": "python",
   "pygments_lexer": "ipython3",
   "version": "3.12.5"
  }
 },
 "nbformat": 4,
 "nbformat_minor": 2
}
